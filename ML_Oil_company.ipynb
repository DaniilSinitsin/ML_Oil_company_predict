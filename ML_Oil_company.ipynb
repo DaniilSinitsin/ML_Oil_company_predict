{
 "cells": [
  {
   "cell_type": "markdown",
   "metadata": {},
   "source": [
    "# Описание проекта"
   ]
  },
  {
   "cell_type": "markdown",
   "metadata": {},
   "source": [
    "Допустим, вы работаете в добывающей компании «ГлавРосГосНефть». Нужно решить, где бурить новую скважину.\n",
    "\n",
    "Вам предоставлены пробы нефти в трёх регионах: в каждом 10 000 месторождений, где измерили качество нефти и объём её запасов. Постройте модель машинного обучения, которая поможет определить регион, где добыча принесёт наибольшую прибыль. Проанализируйте возможную прибыль и риски техникой *Bootstrap.*\n",
    "\n",
    "Шаги для выбора локации:\n",
    "\n",
    "- В избранном регионе ищут месторождения, для каждого определяют значения признаков;\n",
    "- Строят модель и оценивают объём запасов;\n",
    "- Выбирают месторождения с самым высокими оценками значений. Количество месторождений зависит от бюджета компании и стоимости разработки одной скважины;\n",
    "- Прибыль равна суммарной прибыли отобранных месторождений."
   ]
  },
  {
   "cell_type": "markdown",
   "metadata": {},
   "source": [
    "## Оглавление:\n",
    "\n",
    "1. [Загрузка и подготовка данных](#chapter1)<br>\n",
    "2. [Обучение и проверка модели](#chapter2)<br>\n",
    "2.1 [Обучение первой модели](#chapter2.1)<br>\n",
    "2.2 [Обучение второй модели](#chapter2.2)<br>\n",
    "2.3 [Обучение третьей модели](#chapter2.3)<br>\n",
    "2.4 [Выводы по обучению моделей](#chapter2.4)<br>\n",
    "3. [Подготовка к расчету прибыли](#chapter3)<br>\n",
    "4. [Расчет прибыли и рисков](#chapter4)<br>"
   ]
  },
  {
   "cell_type": "markdown",
   "metadata": {},
   "source": [
    "# 1. Загрузка и подготовка данных\n",
    "<a class=\"anchor\" id=\"chapter1\"></a>"
   ]
  },
  {
   "cell_type": "code",
   "execution_count": 5,
   "metadata": {},
   "outputs": [],
   "source": [
    "import pandas as pd\n",
    "import numpy as np\n",
    "import matplotlib.pyplot as plt\n",
    "\n",
    "from sklearn.model_selection import train_test_split\n",
    "from sklearn.preprocessing import StandardScaler\n",
    "from sklearn.utils import shuffle\n",
    "\n",
    "from sklearn.metrics import (accuracy_score,\n",
    "                             r2_score,\n",
    "                             mean_absolute_error,\n",
    "                             mean_squared_error\n",
    ")\n",
    "\n",
    "from sklearn.linear_model import LinearRegression, LogisticRegression"
   ]
  },
  {
   "cell_type": "code",
   "execution_count": 6,
   "metadata": {},
   "outputs": [],
   "source": [
    "df_1 = pd.read_csv('datasets/geo_data_0.csv')\n",
    "df_2 = pd.read_csv('datasets/geo_data_1.csv')\n",
    "df_3 = pd.read_csv('datasets/geo_data_2.csv')"
   ]
  },
  {
   "cell_type": "code",
   "execution_count": 7,
   "metadata": {},
   "outputs": [
    {
     "data": {
      "text/html": [
       "<div>\n",
       "<style scoped>\n",
       "    .dataframe tbody tr th:only-of-type {\n",
       "        vertical-align: middle;\n",
       "    }\n",
       "\n",
       "    .dataframe tbody tr th {\n",
       "        vertical-align: top;\n",
       "    }\n",
       "\n",
       "    .dataframe thead th {\n",
       "        text-align: right;\n",
       "    }\n",
       "</style>\n",
       "<table border=\"1\" class=\"dataframe\">\n",
       "  <thead>\n",
       "    <tr style=\"text-align: right;\">\n",
       "      <th></th>\n",
       "      <th>id</th>\n",
       "      <th>f0</th>\n",
       "      <th>f1</th>\n",
       "      <th>f2</th>\n",
       "      <th>product</th>\n",
       "    </tr>\n",
       "  </thead>\n",
       "  <tbody>\n",
       "    <tr>\n",
       "      <td>0</td>\n",
       "      <td>txEyH</td>\n",
       "      <td>0.705745</td>\n",
       "      <td>-0.497823</td>\n",
       "      <td>1.221170</td>\n",
       "      <td>105.280062</td>\n",
       "    </tr>\n",
       "    <tr>\n",
       "      <td>1</td>\n",
       "      <td>2acmU</td>\n",
       "      <td>1.334711</td>\n",
       "      <td>-0.340164</td>\n",
       "      <td>4.365080</td>\n",
       "      <td>73.037750</td>\n",
       "    </tr>\n",
       "    <tr>\n",
       "      <td>2</td>\n",
       "      <td>409Wp</td>\n",
       "      <td>1.022732</td>\n",
       "      <td>0.151990</td>\n",
       "      <td>1.419926</td>\n",
       "      <td>85.265647</td>\n",
       "    </tr>\n",
       "    <tr>\n",
       "      <td>3</td>\n",
       "      <td>iJLyR</td>\n",
       "      <td>-0.032172</td>\n",
       "      <td>0.139033</td>\n",
       "      <td>2.978566</td>\n",
       "      <td>168.620776</td>\n",
       "    </tr>\n",
       "    <tr>\n",
       "      <td>4</td>\n",
       "      <td>Xdl7t</td>\n",
       "      <td>1.988431</td>\n",
       "      <td>0.155413</td>\n",
       "      <td>4.751769</td>\n",
       "      <td>154.036647</td>\n",
       "    </tr>\n",
       "  </tbody>\n",
       "</table>\n",
       "</div>"
      ],
      "text/plain": [
       "      id        f0        f1        f2     product\n",
       "0  txEyH  0.705745 -0.497823  1.221170  105.280062\n",
       "1  2acmU  1.334711 -0.340164  4.365080   73.037750\n",
       "2  409Wp  1.022732  0.151990  1.419926   85.265647\n",
       "3  iJLyR -0.032172  0.139033  2.978566  168.620776\n",
       "4  Xdl7t  1.988431  0.155413  4.751769  154.036647"
      ]
     },
     "execution_count": 7,
     "metadata": {},
     "output_type": "execute_result"
    }
   ],
   "source": [
    "df_1.head()"
   ]
  },
  {
   "cell_type": "code",
   "execution_count": 8,
   "metadata": {},
   "outputs": [
    {
     "name": "stdout",
     "output_type": "stream",
     "text": [
      "<class 'pandas.core.frame.DataFrame'>\n",
      "RangeIndex: 100000 entries, 0 to 99999\n",
      "Data columns (total 5 columns):\n",
      "id         100000 non-null object\n",
      "f0         100000 non-null float64\n",
      "f1         100000 non-null float64\n",
      "f2         100000 non-null float64\n",
      "product    100000 non-null float64\n",
      "dtypes: float64(4), object(1)\n",
      "memory usage: 3.8+ MB\n"
     ]
    }
   ],
   "source": [
    "df_1.info()"
   ]
  },
  {
   "cell_type": "code",
   "execution_count": 9,
   "metadata": {},
   "outputs": [
    {
     "data": {
      "text/html": [
       "<div>\n",
       "<style scoped>\n",
       "    .dataframe tbody tr th:only-of-type {\n",
       "        vertical-align: middle;\n",
       "    }\n",
       "\n",
       "    .dataframe tbody tr th {\n",
       "        vertical-align: top;\n",
       "    }\n",
       "\n",
       "    .dataframe thead th {\n",
       "        text-align: right;\n",
       "    }\n",
       "</style>\n",
       "<table border=\"1\" class=\"dataframe\">\n",
       "  <thead>\n",
       "    <tr style=\"text-align: right;\">\n",
       "      <th></th>\n",
       "      <th>f0</th>\n",
       "      <th>f1</th>\n",
       "      <th>f2</th>\n",
       "      <th>product</th>\n",
       "    </tr>\n",
       "  </thead>\n",
       "  <tbody>\n",
       "    <tr>\n",
       "      <td>count</td>\n",
       "      <td>100000.000000</td>\n",
       "      <td>100000.000000</td>\n",
       "      <td>100000.000000</td>\n",
       "      <td>100000.000000</td>\n",
       "    </tr>\n",
       "    <tr>\n",
       "      <td>mean</td>\n",
       "      <td>0.500419</td>\n",
       "      <td>0.250143</td>\n",
       "      <td>2.502647</td>\n",
       "      <td>92.500000</td>\n",
       "    </tr>\n",
       "    <tr>\n",
       "      <td>std</td>\n",
       "      <td>0.871832</td>\n",
       "      <td>0.504433</td>\n",
       "      <td>3.248248</td>\n",
       "      <td>44.288691</td>\n",
       "    </tr>\n",
       "    <tr>\n",
       "      <td>min</td>\n",
       "      <td>-1.408605</td>\n",
       "      <td>-0.848218</td>\n",
       "      <td>-12.088328</td>\n",
       "      <td>0.000000</td>\n",
       "    </tr>\n",
       "    <tr>\n",
       "      <td>25%</td>\n",
       "      <td>-0.072580</td>\n",
       "      <td>-0.200881</td>\n",
       "      <td>0.287748</td>\n",
       "      <td>56.497507</td>\n",
       "    </tr>\n",
       "    <tr>\n",
       "      <td>50%</td>\n",
       "      <td>0.502360</td>\n",
       "      <td>0.250252</td>\n",
       "      <td>2.515969</td>\n",
       "      <td>91.849972</td>\n",
       "    </tr>\n",
       "    <tr>\n",
       "      <td>75%</td>\n",
       "      <td>1.073581</td>\n",
       "      <td>0.700646</td>\n",
       "      <td>4.715088</td>\n",
       "      <td>128.564089</td>\n",
       "    </tr>\n",
       "    <tr>\n",
       "      <td>max</td>\n",
       "      <td>2.362331</td>\n",
       "      <td>1.343769</td>\n",
       "      <td>16.003790</td>\n",
       "      <td>185.364347</td>\n",
       "    </tr>\n",
       "  </tbody>\n",
       "</table>\n",
       "</div>"
      ],
      "text/plain": [
       "                  f0             f1             f2        product\n",
       "count  100000.000000  100000.000000  100000.000000  100000.000000\n",
       "mean        0.500419       0.250143       2.502647      92.500000\n",
       "std         0.871832       0.504433       3.248248      44.288691\n",
       "min        -1.408605      -0.848218     -12.088328       0.000000\n",
       "25%        -0.072580      -0.200881       0.287748      56.497507\n",
       "50%         0.502360       0.250252       2.515969      91.849972\n",
       "75%         1.073581       0.700646       4.715088     128.564089\n",
       "max         2.362331       1.343769      16.003790     185.364347"
      ]
     },
     "execution_count": 9,
     "metadata": {},
     "output_type": "execute_result"
    }
   ],
   "source": [
    "df_1.describe()"
   ]
  },
  {
   "cell_type": "code",
   "execution_count": 10,
   "metadata": {},
   "outputs": [
    {
     "data": {
      "text/plain": [
       "<matplotlib.axes._subplots.AxesSubplot at 0x1a1eb58110>"
      ]
     },
     "execution_count": 10,
     "metadata": {},
     "output_type": "execute_result"
    },
    {
     "data": {
      "image/png": "[encoded data removed]",
      "text/plain": [
       "<Figure size 432x288 with 1 Axes>"
      ]
     },
     "metadata": {
      "needs_background": "light"
     },
     "output_type": "display_data"
    }
   ],
   "source": [
    "df_1['product'].hist()"
   ]
  },
  {
   "cell_type": "code",
   "execution_count": 11,
   "metadata": {},
   "outputs": [
    {
     "data": {
      "text/html": [
       "<div>\n",
       "<style scoped>\n",
       "    .dataframe tbody tr th:only-of-type {\n",
       "        vertical-align: middle;\n",
       "    }\n",
       "\n",
       "    .dataframe tbody tr th {\n",
       "        vertical-align: top;\n",
       "    }\n",
       "\n",
       "    .dataframe thead th {\n",
       "        text-align: right;\n",
       "    }\n",
       "</style>\n",
       "<table border=\"1\" class=\"dataframe\">\n",
       "  <thead>\n",
       "    <tr style=\"text-align: right;\">\n",
       "      <th></th>\n",
       "      <th>id</th>\n",
       "      <th>f0</th>\n",
       "      <th>f1</th>\n",
       "      <th>f2</th>\n",
       "      <th>product</th>\n",
       "    </tr>\n",
       "  </thead>\n",
       "  <tbody>\n",
       "    <tr>\n",
       "      <td>0</td>\n",
       "      <td>kBEdx</td>\n",
       "      <td>-15.001348</td>\n",
       "      <td>-8.276000</td>\n",
       "      <td>-0.005876</td>\n",
       "      <td>3.179103</td>\n",
       "    </tr>\n",
       "    <tr>\n",
       "      <td>1</td>\n",
       "      <td>62mP7</td>\n",
       "      <td>14.272088</td>\n",
       "      <td>-3.475083</td>\n",
       "      <td>0.999183</td>\n",
       "      <td>26.953261</td>\n",
       "    </tr>\n",
       "    <tr>\n",
       "      <td>2</td>\n",
       "      <td>vyE1P</td>\n",
       "      <td>6.263187</td>\n",
       "      <td>-5.948386</td>\n",
       "      <td>5.001160</td>\n",
       "      <td>134.766305</td>\n",
       "    </tr>\n",
       "    <tr>\n",
       "      <td>3</td>\n",
       "      <td>KcrkZ</td>\n",
       "      <td>-13.081196</td>\n",
       "      <td>-11.506057</td>\n",
       "      <td>4.999415</td>\n",
       "      <td>137.945408</td>\n",
       "    </tr>\n",
       "    <tr>\n",
       "      <td>4</td>\n",
       "      <td>AHL4O</td>\n",
       "      <td>12.702195</td>\n",
       "      <td>-8.147433</td>\n",
       "      <td>5.004363</td>\n",
       "      <td>134.766305</td>\n",
       "    </tr>\n",
       "  </tbody>\n",
       "</table>\n",
       "</div>"
      ],
      "text/plain": [
       "      id         f0         f1        f2     product\n",
       "0  kBEdx -15.001348  -8.276000 -0.005876    3.179103\n",
       "1  62mP7  14.272088  -3.475083  0.999183   26.953261\n",
       "2  vyE1P   6.263187  -5.948386  5.001160  134.766305\n",
       "3  KcrkZ -13.081196 -11.506057  4.999415  137.945408\n",
       "4  AHL4O  12.702195  -8.147433  5.004363  134.766305"
      ]
     },
     "execution_count": 11,
     "metadata": {},
     "output_type": "execute_result"
    }
   ],
   "source": [
    "df_2.head()"
   ]
  },
  {
   "cell_type": "code",
   "execution_count": 12,
   "metadata": {},
   "outputs": [
    {
     "name": "stdout",
     "output_type": "stream",
     "text": [
      "<class 'pandas.core.frame.DataFrame'>\n",
      "RangeIndex: 100000 entries, 0 to 99999\n",
      "Data columns (total 5 columns):\n",
      "id         100000 non-null object\n",
      "f0         100000 non-null float64\n",
      "f1         100000 non-null float64\n",
      "f2         100000 non-null float64\n",
      "product    100000 non-null float64\n",
      "dtypes: float64(4), object(1)\n",
      "memory usage: 3.8+ MB\n"
     ]
    }
   ],
   "source": [
    "df_2.info()"
   ]
  },
  {
   "cell_type": "code",
   "execution_count": 13,
   "metadata": {},
   "outputs": [
    {
     "data": {
      "text/html": [
       "<div>\n",
       "<style scoped>\n",
       "    .dataframe tbody tr th:only-of-type {\n",
       "        vertical-align: middle;\n",
       "    }\n",
       "\n",
       "    .dataframe tbody tr th {\n",
       "        vertical-align: top;\n",
       "    }\n",
       "\n",
       "    .dataframe thead th {\n",
       "        text-align: right;\n",
       "    }\n",
       "</style>\n",
       "<table border=\"1\" class=\"dataframe\">\n",
       "  <thead>\n",
       "    <tr style=\"text-align: right;\">\n",
       "      <th></th>\n",
       "      <th>f0</th>\n",
       "      <th>f1</th>\n",
       "      <th>f2</th>\n",
       "      <th>product</th>\n",
       "    </tr>\n",
       "  </thead>\n",
       "  <tbody>\n",
       "    <tr>\n",
       "      <td>count</td>\n",
       "      <td>100000.000000</td>\n",
       "      <td>100000.000000</td>\n",
       "      <td>100000.000000</td>\n",
       "      <td>100000.000000</td>\n",
       "    </tr>\n",
       "    <tr>\n",
       "      <td>mean</td>\n",
       "      <td>1.141296</td>\n",
       "      <td>-4.796579</td>\n",
       "      <td>2.494541</td>\n",
       "      <td>68.825000</td>\n",
       "    </tr>\n",
       "    <tr>\n",
       "      <td>std</td>\n",
       "      <td>8.965932</td>\n",
       "      <td>5.119872</td>\n",
       "      <td>1.703572</td>\n",
       "      <td>45.944423</td>\n",
       "    </tr>\n",
       "    <tr>\n",
       "      <td>min</td>\n",
       "      <td>-31.609576</td>\n",
       "      <td>-26.358598</td>\n",
       "      <td>-0.018144</td>\n",
       "      <td>0.000000</td>\n",
       "    </tr>\n",
       "    <tr>\n",
       "      <td>25%</td>\n",
       "      <td>-6.298551</td>\n",
       "      <td>-8.267985</td>\n",
       "      <td>1.000021</td>\n",
       "      <td>26.953261</td>\n",
       "    </tr>\n",
       "    <tr>\n",
       "      <td>50%</td>\n",
       "      <td>1.153055</td>\n",
       "      <td>-4.813172</td>\n",
       "      <td>2.011479</td>\n",
       "      <td>57.085625</td>\n",
       "    </tr>\n",
       "    <tr>\n",
       "      <td>75%</td>\n",
       "      <td>8.621015</td>\n",
       "      <td>-1.332816</td>\n",
       "      <td>3.999904</td>\n",
       "      <td>107.813044</td>\n",
       "    </tr>\n",
       "    <tr>\n",
       "      <td>max</td>\n",
       "      <td>29.421755</td>\n",
       "      <td>18.734063</td>\n",
       "      <td>5.019721</td>\n",
       "      <td>137.945408</td>\n",
       "    </tr>\n",
       "  </tbody>\n",
       "</table>\n",
       "</div>"
      ],
      "text/plain": [
       "                  f0             f1             f2        product\n",
       "count  100000.000000  100000.000000  100000.000000  100000.000000\n",
       "mean        1.141296      -4.796579       2.494541      68.825000\n",
       "std         8.965932       5.119872       1.703572      45.944423\n",
       "min       -31.609576     -26.358598      -0.018144       0.000000\n",
       "25%        -6.298551      -8.267985       1.000021      26.953261\n",
       "50%         1.153055      -4.813172       2.011479      57.085625\n",
       "75%         8.621015      -1.332816       3.999904     107.813044\n",
       "max        29.421755      18.734063       5.019721     137.945408"
      ]
     },
     "execution_count": 13,
     "metadata": {},
     "output_type": "execute_result"
    }
   ],
   "source": [
    "df_2.describe()"
   ]
  },
  {
   "cell_type": "code",
   "execution_count": 14,
   "metadata": {},
   "outputs": [
    {
     "data": {
      "text/plain": [
       "<matplotlib.axes._subplots.AxesSubplot at 0x108030990>"
      ]
     },
     "execution_count": 14,
     "metadata": {},
     "output_type": "execute_result"
    },
    {
     "data": {
      "image/png": "[encoded data removed]",
      "text/plain": [
       "<Figure size 432x288 with 1 Axes>"
      ]
     },
     "metadata": {
      "needs_background": "light"
     },
     "output_type": "display_data"
    }
   ],
   "source": [
    "df_2['product'].hist()"
   ]
  },
  {
   "cell_type": "code",
   "execution_count": 15,
   "metadata": {},
   "outputs": [
    {
     "data": {
      "text/html": [
       "<div>\n",
       "<style scoped>\n",
       "    .dataframe tbody tr th:only-of-type {\n",
       "        vertical-align: middle;\n",
       "    }\n",
       "\n",
       "    .dataframe tbody tr th {\n",
       "        vertical-align: top;\n",
       "    }\n",
       "\n",
       "    .dataframe thead th {\n",
       "        text-align: right;\n",
       "    }\n",
       "</style>\n",
       "<table border=\"1\" class=\"dataframe\">\n",
       "  <thead>\n",
       "    <tr style=\"text-align: right;\">\n",
       "      <th></th>\n",
       "      <th>id</th>\n",
       "      <th>f0</th>\n",
       "      <th>f1</th>\n",
       "      <th>f2</th>\n",
       "      <th>product</th>\n",
       "    </tr>\n",
       "  </thead>\n",
       "  <tbody>\n",
       "    <tr>\n",
       "      <td>0</td>\n",
       "      <td>fwXo0</td>\n",
       "      <td>-1.146987</td>\n",
       "      <td>0.963328</td>\n",
       "      <td>-0.828965</td>\n",
       "      <td>27.758673</td>\n",
       "    </tr>\n",
       "    <tr>\n",
       "      <td>1</td>\n",
       "      <td>WJtFt</td>\n",
       "      <td>0.262778</td>\n",
       "      <td>0.269839</td>\n",
       "      <td>-2.530187</td>\n",
       "      <td>56.069697</td>\n",
       "    </tr>\n",
       "    <tr>\n",
       "      <td>2</td>\n",
       "      <td>ovLUW</td>\n",
       "      <td>0.194587</td>\n",
       "      <td>0.289035</td>\n",
       "      <td>-5.586433</td>\n",
       "      <td>62.871910</td>\n",
       "    </tr>\n",
       "    <tr>\n",
       "      <td>3</td>\n",
       "      <td>q6cA6</td>\n",
       "      <td>2.236060</td>\n",
       "      <td>-0.553760</td>\n",
       "      <td>0.930038</td>\n",
       "      <td>114.572842</td>\n",
       "    </tr>\n",
       "    <tr>\n",
       "      <td>4</td>\n",
       "      <td>WPMUX</td>\n",
       "      <td>-0.515993</td>\n",
       "      <td>1.716266</td>\n",
       "      <td>5.899011</td>\n",
       "      <td>149.600746</td>\n",
       "    </tr>\n",
       "  </tbody>\n",
       "</table>\n",
       "</div>"
      ],
      "text/plain": [
       "      id        f0        f1        f2     product\n",
       "0  fwXo0 -1.146987  0.963328 -0.828965   27.758673\n",
       "1  WJtFt  0.262778  0.269839 -2.530187   56.069697\n",
       "2  ovLUW  0.194587  0.289035 -5.586433   62.871910\n",
       "3  q6cA6  2.236060 -0.553760  0.930038  114.572842\n",
       "4  WPMUX -0.515993  1.716266  5.899011  149.600746"
      ]
     },
     "execution_count": 15,
     "metadata": {},
     "output_type": "execute_result"
    }
   ],
   "source": [
    "df_3.head()"
   ]
  },
  {
   "cell_type": "code",
   "execution_count": 16,
   "metadata": {},
   "outputs": [
    {
     "name": "stdout",
     "output_type": "stream",
     "text": [
      "<class 'pandas.core.frame.DataFrame'>\n",
      "RangeIndex: 100000 entries, 0 to 99999\n",
      "Data columns (total 5 columns):\n",
      "id         100000 non-null object\n",
      "f0         100000 non-null float64\n",
      "f1         100000 non-null float64\n",
      "f2         100000 non-null float64\n",
      "product    100000 non-null float64\n",
      "dtypes: float64(4), object(1)\n",
      "memory usage: 3.8+ MB\n"
     ]
    }
   ],
   "source": [
    "df_3.info()"
   ]
  },
  {
   "cell_type": "code",
   "execution_count": 17,
   "metadata": {},
   "outputs": [
    {
     "data": {
      "text/html": [
       "<div>\n",
       "<style scoped>\n",
       "    .dataframe tbody tr th:only-of-type {\n",
       "        vertical-align: middle;\n",
       "    }\n",
       "\n",
       "    .dataframe tbody tr th {\n",
       "        vertical-align: top;\n",
       "    }\n",
       "\n",
       "    .dataframe thead th {\n",
       "        text-align: right;\n",
       "    }\n",
       "</style>\n",
       "<table border=\"1\" class=\"dataframe\">\n",
       "  <thead>\n",
       "    <tr style=\"text-align: right;\">\n",
       "      <th></th>\n",
       "      <th>f0</th>\n",
       "      <th>f1</th>\n",
       "      <th>f2</th>\n",
       "      <th>product</th>\n",
       "    </tr>\n",
       "  </thead>\n",
       "  <tbody>\n",
       "    <tr>\n",
       "      <td>count</td>\n",
       "      <td>100000.000000</td>\n",
       "      <td>100000.000000</td>\n",
       "      <td>100000.000000</td>\n",
       "      <td>100000.000000</td>\n",
       "    </tr>\n",
       "    <tr>\n",
       "      <td>mean</td>\n",
       "      <td>0.002023</td>\n",
       "      <td>-0.002081</td>\n",
       "      <td>2.495128</td>\n",
       "      <td>95.000000</td>\n",
       "    </tr>\n",
       "    <tr>\n",
       "      <td>std</td>\n",
       "      <td>1.732045</td>\n",
       "      <td>1.730417</td>\n",
       "      <td>3.473445</td>\n",
       "      <td>44.749921</td>\n",
       "    </tr>\n",
       "    <tr>\n",
       "      <td>min</td>\n",
       "      <td>-8.760004</td>\n",
       "      <td>-7.084020</td>\n",
       "      <td>-11.970335</td>\n",
       "      <td>0.000000</td>\n",
       "    </tr>\n",
       "    <tr>\n",
       "      <td>25%</td>\n",
       "      <td>-1.162288</td>\n",
       "      <td>-1.174820</td>\n",
       "      <td>0.130359</td>\n",
       "      <td>59.450441</td>\n",
       "    </tr>\n",
       "    <tr>\n",
       "      <td>50%</td>\n",
       "      <td>0.009424</td>\n",
       "      <td>-0.009482</td>\n",
       "      <td>2.484236</td>\n",
       "      <td>94.925613</td>\n",
       "    </tr>\n",
       "    <tr>\n",
       "      <td>75%</td>\n",
       "      <td>1.158535</td>\n",
       "      <td>1.163678</td>\n",
       "      <td>4.858794</td>\n",
       "      <td>130.595027</td>\n",
       "    </tr>\n",
       "    <tr>\n",
       "      <td>max</td>\n",
       "      <td>7.238262</td>\n",
       "      <td>7.844801</td>\n",
       "      <td>16.739402</td>\n",
       "      <td>190.029838</td>\n",
       "    </tr>\n",
       "  </tbody>\n",
       "</table>\n",
       "</div>"
      ],
      "text/plain": [
       "                  f0             f1             f2        product\n",
       "count  100000.000000  100000.000000  100000.000000  100000.000000\n",
       "mean        0.002023      -0.002081       2.495128      95.000000\n",
       "std         1.732045       1.730417       3.473445      44.749921\n",
       "min        -8.760004      -7.084020     -11.970335       0.000000\n",
       "25%        -1.162288      -1.174820       0.130359      59.450441\n",
       "50%         0.009424      -0.009482       2.484236      94.925613\n",
       "75%         1.158535       1.163678       4.858794     130.595027\n",
       "max         7.238262       7.844801      16.739402     190.029838"
      ]
     },
     "execution_count": 17,
     "metadata": {},
     "output_type": "execute_result"
    }
   ],
   "source": [
    "df_3.describe()"
   ]
  },
  {
   "cell_type": "code",
   "execution_count": 18,
   "metadata": {},
   "outputs": [
    {
     "data": {
      "text/plain": [
       "<matplotlib.axes._subplots.AxesSubplot at 0x1a1d0a7450>"
      ]
     },
     "execution_count": 18,
     "metadata": {},
     "output_type": "execute_result"
    },
    {
     "data": {
      "image/png": "[encoded data removed]",
      "text/plain": [
       "<Figure size 432x288 with 1 Axes>"
      ]
     },
     "metadata": {
      "needs_background": "light"
     },
     "output_type": "display_data"
    }
   ],
   "source": [
    "df_3['product'].hist()"
   ]
  },
  {
   "cell_type": "markdown",
   "metadata": {},
   "source": [
    "Мы не видим категориальных признаков и кодировка не требуется, поделим данные на тренировочную и валидационную выборки, сделаем масштабирование данных, для каждого дата сета по отдельности."
   ]
  },
  {
   "cell_type": "markdown",
   "metadata": {},
   "source": [
    "Для 1 модели"
   ]
  },
  {
   "cell_type": "code",
   "execution_count": 19,
   "metadata": {},
   "outputs": [],
   "source": [
    "target = df_1['product']\n",
    "features = df_1.drop(['id','product'], axis=1)\n",
    "features_train, features_valid, target_train, target_valid = train_test_split(\n",
    "    features, target, test_size=0.25, random_state=12345)\n",
    "\n",
    "# сохраним в новые объекты наши признаки\n",
    "features_train_1 = features_train.copy()\n",
    "features_valid_1 = features_valid.copy()\n",
    "target_train_1 = target_train.copy()\n",
    "target_valid_1 = target_valid.copy()\n",
    "\n",
    "#сделаем масштабирование числовых признаков\n",
    "numeric = ['f0', 'f1', 'f2']\n",
    "\n",
    "scaler = StandardScaler()\n",
    "scaler.fit(features_train_1.loc[:, numeric])\n",
    "features_train_1.loc[:, numeric] = scaler.transform(features_train_1.loc[:, numeric])\n",
    "features_valid_1.loc[:, numeric] = scaler.transform(features_valid_1.loc[:, numeric])"
   ]
  },
  {
   "cell_type": "markdown",
   "metadata": {},
   "source": [
    "Для 2 модели"
   ]
  },
  {
   "cell_type": "code",
   "execution_count": 20,
   "metadata": {},
   "outputs": [],
   "source": [
    "target = df_2['product']\n",
    "features = df_2.drop(['id','product'], axis=1)\n",
    "features_train, features_valid, target_train, target_valid = train_test_split(\n",
    "    features, target, test_size=0.25, random_state=12345)\n",
    "\n",
    "# сохраним в новые объекты наши признаки\n",
    "features_train_2 = features_train.copy()\n",
    "features_valid_2 = features_valid.copy()\n",
    "target_train_2 = target_train.copy()\n",
    "target_valid_2 = target_valid.copy()\n",
    "\n",
    "#сделаем масштабирование числовых признаков\n",
    "numeric = ['f0', 'f1', 'f2']\n",
    "\n",
    "scaler = StandardScaler()\n",
    "scaler.fit(features_train_2.loc[:, numeric])\n",
    "features_train_2.loc[:, numeric] = scaler.transform(features_train_2.loc[:, numeric])\n",
    "features_valid_2.loc[:, numeric] = scaler.transform(features_valid_2.loc[:, numeric])"
   ]
  },
  {
   "cell_type": "markdown",
   "metadata": {},
   "source": [
    "Для 3 модели"
   ]
  },
  {
   "cell_type": "code",
   "execution_count": 21,
   "metadata": {},
   "outputs": [],
   "source": [
    "target = df_3['product']\n",
    "features = df_3.drop(['id','product'], axis=1)\n",
    "features_train, features_valid, target_train, target_valid = train_test_split(\n",
    "    features, target, test_size=0.25, random_state=12345)\n",
    "\n",
    "# сохраним в новые объекты наши признаки\n",
    "features_train_3 = features_train.copy()\n",
    "features_valid_3 = features_valid.copy()\n",
    "target_train_3 = target_train.copy()\n",
    "target_valid_3 = target_valid.copy()\n",
    "\n",
    "#сделаем масштабирование числовых признаков\n",
    "numeric = ['f0', 'f1', 'f2']\n",
    "\n",
    "scaler = StandardScaler()\n",
    "scaler.fit(features_train_3.loc[:, numeric])\n",
    "features_train_3.loc[:, numeric] = scaler.transform(features_train_3.loc[:, numeric])\n",
    "features_valid_3.loc[:, numeric] = scaler.transform(features_valid_3.loc[:, numeric])"
   ]
  },
  {
   "cell_type": "markdown",
   "metadata": {},
   "source": [
    "Мы имеем 3 датасета с общими признаками:\n",
    "- id — уникальный идентификатор скважины;\n",
    "- f0, f1, f2 — три признака точек, комментари по ним не даются;\n",
    "\n",
    "<br>\n",
    "И целевыми признаками:\n",
    "\n",
    "- product — объём запасов в скважине (тыс. баррелей).\n",
    "\n",
    "<br>\n",
    "Мы видим значительные отличия 2-го датасета от первого и третьего, не имеющего вида нормального распределения и имеющего незначительные отклонения менее 1% на более 90% всего интервала значений.\n",
    "\n",
    "На этапе обработки:\n",
    "\n",
    "- Мы убрали из данных не информативные для нас столбцы с номером ID, \n",
    "- Поделили данные на тренировочную и валидационную выборки,\n",
    "- Сделали масштабирование численных признаков.<br>\n",
    "\n",
    "Данные предобработаны, масштабированы и поделены на выборки. Теперь можно обучать ML модели и исследовать задачу."
   ]
  },
  {
   "cell_type": "markdown",
   "metadata": {},
   "source": [
    "# 2. Обучение и проверка модели\n",
    "<a class=\"anchor\" id=\"chapter2\"></a>"
   ]
  },
  {
   "cell_type": "markdown",
   "metadata": {},
   "source": [
    "### Обучение первой модели\n",
    "<a class=\"anchor\" id=\"chapter2.1\"></a>"
   ]
  },
  {
   "cell_type": "code",
   "execution_count": 23,
   "metadata": {},
   "outputs": [
    {
     "name": "stdout",
     "output_type": "stream",
     "text": [
      "R2 на валидационной выборке:  0.27994321524487786\n",
      "rmse на валидационной выборке:  37.5794217150813\n",
      "Средний запас сырья:  92.07859674082941\n",
      "Средний запас предсказанного сырья:  92.59256778438038\n"
     ]
    }
   ],
   "source": [
    "model = LinearRegression() # инициализируем модель логистической регрессии\n",
    "model.fit(features_train_1, target_train_1) # обучим модель на тренировочной выборке\n",
    "predicted_valid_1 = model.predict(features_valid_1) # сделаем предикт для валидационного датасета\n",
    "\n",
    "target_mean= target_valid_1.mean() # получим средний запас сырья\n",
    "predicted_mean = predicted_valid_1.mean() # получим средний запас предсказанного сырья\n",
    "r2 = model.score(features_valid_1, target_valid_1) # получим метрику r2 для модели на валидационном датасете\n",
    "rmse = mean_squared_error(target_valid_1, predicted_valid_1)**0.5 # получим метрику rmse для модели на валидационном датасете\n",
    "\n",
    "# сохряняю метрики в глобальные переменные\n",
    "r2_1 = r2.copy()\n",
    "rmse_1 = rmse.copy()\n",
    "target_mean_1 = target_mean\n",
    "predicted_mean_1 = predicted_mean.copy()\n",
    "\n",
    "print('R2 на валидационной выборке: ', r2_1) \n",
    "print('rmse на валидационной выборке: ', rmse_1)\n",
    "print('Средний запас сырья: ', target_mean_1)\n",
    "print('Средний запас предсказанного сырья: ', predicted_mean_1)"
   ]
  },
  {
   "cell_type": "code",
   "execution_count": 24,
   "metadata": {},
   "outputs": [
    {
     "data": {
      "text/plain": [
       "0         95.894952\n",
       "1         77.572583\n",
       "2         77.892640\n",
       "3         90.175134\n",
       "4         70.510088\n",
       "            ...    \n",
       "24995    103.037104\n",
       "24996     85.403255\n",
       "24997     61.509833\n",
       "24998    118.180397\n",
       "24999    118.169392\n",
       "Length: 25000, dtype: float64"
      ]
     },
     "execution_count": 24,
     "metadata": {},
     "output_type": "execute_result"
    }
   ],
   "source": [
    "pd.Series(predicted_valid_1)"
   ]
  },
  {
   "cell_type": "code",
   "execution_count": 25,
   "metadata": {},
   "outputs": [
    {
     "data": {
      "text/plain": [
       "71751     10.038645\n",
       "80493    114.551489\n",
       "2655     132.603635\n",
       "53233    169.072125\n",
       "91141    122.325180\n",
       "            ...    \n",
       "12581    170.116726\n",
       "18456     93.632175\n",
       "73035    127.352259\n",
       "63834     99.782700\n",
       "43558    177.821022\n",
       "Name: product, Length: 25000, dtype: float64"
      ]
     },
     "execution_count": 25,
     "metadata": {},
     "output_type": "execute_result"
    }
   ],
   "source": [
    "target_valid_1"
   ]
  },
  {
   "cell_type": "markdown",
   "metadata": {},
   "source": [
    "### Обучение второй модели\n",
    "<a class=\"anchor\" id=\"chapter2.2\"></a>"
   ]
  },
  {
   "cell_type": "code",
   "execution_count": 32,
   "metadata": {},
   "outputs": [
    {
     "name": "stdout",
     "output_type": "stream",
     "text": [
      "R2 на валидационной выборке:  0.9996233978805126\n",
      "rmse на валидационной выборке:  0.8930992867756158\n",
      "Средний запас сырья:  68.72313602437494\n",
      "Средний запас предсказанного сырья:  68.728546895446\n"
     ]
    }
   ],
   "source": [
    "model = LinearRegression() # инициализируем модель логистической регрессии\n",
    "model.fit(features_train_2, target_train_2) # обучим модель на тренировочной выборке\n",
    "predicted_valid_2 = model.predict(features_valid_2) # сделаем предикт для валидационного датасета\n",
    "\n",
    "target_mean= target_valid_2.mean() # получим средний запас сырья\n",
    "predicted_mean = predicted_valid_2.mean() # получим средний запас предсказанного сырья\n",
    "r2 = model.score(features_valid_2, target_valid_2) # получим метрику r2 для модели на валидационном датасете\n",
    "rmse = mean_squared_error(target_valid_2, predicted_valid_2)**0.5 # получим метрику rmse для модели на валидационном датасете\n",
    "\n",
    "# сохряняю метрики в глобальные переменные\n",
    "r2_2 = r2.copy()\n",
    "rmse_2 = rmse.copy()\n",
    "target_mean_2 = target_mean\n",
    "predicted_mean_2 = predicted_mean.copy()\n",
    "\n",
    "print('R2 на валидационной выборке: ', r2_2) \n",
    "print('rmse на валидационной выборке: ', rmse_2)\n",
    "print('Средний запас сырья: ', target_mean_2)\n",
    "print('Средний запас предсказанного сырья: ', predicted_mean_2)"
   ]
  },
  {
   "cell_type": "code",
   "execution_count": 33,
   "metadata": {},
   "outputs": [
    {
     "data": {
      "text/plain": [
       "0         95.894952\n",
       "1         77.572583\n",
       "2         77.892640\n",
       "3         90.175134\n",
       "4         70.510088\n",
       "            ...    \n",
       "24995    103.037104\n",
       "24996     85.403255\n",
       "24997     61.509833\n",
       "24998    118.180397\n",
       "24999    118.169392\n",
       "Length: 25000, dtype: float64"
      ]
     },
     "execution_count": 33,
     "metadata": {},
     "output_type": "execute_result"
    }
   ],
   "source": [
    "pd.Series(predicted_valid_1)"
   ]
  },
  {
   "cell_type": "markdown",
   "metadata": {},
   "source": [
    "### Обучение третьей модели\n",
    "<a class=\"anchor\" id=\"chapter2.3\"></a>"
   ]
  },
  {
   "cell_type": "code",
   "execution_count": 34,
   "metadata": {},
   "outputs": [
    {
     "name": "stdout",
     "output_type": "stream",
     "text": [
      "R2 на валидационной выборке:  0.20524758386040443\n",
      "rmse на валидационной выборке:  40.02970873393434\n",
      "Средний запас сырья:  94.88423280885489\n",
      "Средний запас предсказанного сырья:  94.96504596800489\n"
     ]
    }
   ],
   "source": [
    "model = LinearRegression() # инициализируем модель логистической регрессии\n",
    "model.fit(features_train_3, target_train_3) # обучим модель на тренировочной выборке\n",
    "predicted_valid_3 = model.predict(features_valid_3) # сделаем предикт для валидационного датасета\n",
    "\n",
    "target_mean= target_valid_3.mean() # получим средний запас сырья\n",
    "predicted_mean = predicted_valid_3.mean() # получим средний запас предсказанного сырья\n",
    "r2 = model.score(features_valid_3, target_valid_3) # получим метрику r2 для модели на валидационном датасете\n",
    "rmse = mean_squared_error(target_valid_3, predicted_valid_3)**0.5 # получим метрику rmse для модели на валидационном датасете\n",
    "\n",
    "# сохряняю метрики в глобальные переменные\n",
    "r2_3 = r2.copy()\n",
    "rmse_3 = rmse.copy()\n",
    "target_mean_3 = target_mean\n",
    "predicted_mean_3 = predicted_mean.copy()\n",
    "\n",
    "print('R2 на валидационной выборке: ', r2_3) \n",
    "print('rmse на валидационной выборке: ', rmse_3)\n",
    "print('Средний запас сырья: ', target_mean_3)\n",
    "print('Средний запас предсказанного сырья: ', predicted_mean_3)"
   ]
  },
  {
   "cell_type": "code",
   "execution_count": 35,
   "metadata": {},
   "outputs": [
    {
     "data": {
      "text/plain": [
       "array([[<matplotlib.axes._subplots.AxesSubplot object at 0x1a1d3cc8d0>]],\n",
       "      dtype=object)"
      ]
     },
     "execution_count": 35,
     "metadata": {},
     "output_type": "execute_result"
    },
    {
     "data": {
      "image/png": "[encoded data removed]",
      "text/plain": [
       "<Figure size 432x288 with 1 Axes>"
      ]
     },
     "metadata": {
      "needs_background": "light"
     },
     "output_type": "display_data"
    }
   ],
   "source": [
    "pd.DataFrame(predicted_valid_3).hist()"
   ]
  },
  {
   "cell_type": "markdown",
   "metadata": {},
   "source": [
    "### Выводы по обучению моделей\n",
    "<a class=\"anchor\" id=\"chapter2.4\"></a>"
   ]
  },
  {
   "cell_type": "code",
   "execution_count": 36,
   "metadata": {},
   "outputs": [
    {
     "name": "stdout",
     "output_type": "stream",
     "text": [
      "Название датасета |  rmse  |   r2   | Средний запас предсказанного сырья |\n",
      "----------------------------------------------------------------\n",
      "df1             0.2799   37.579             92.59 \n",
      "df2             0.9996   0.893              68.73\n",
      "df3             0.2052   40.030             94.97\n"
     ]
    }
   ],
   "source": [
    "print('Название датасета |  rmse  |   r2   | Средний запас предсказанного сырья |')\n",
    "print('----------------------------------------------------------------')\n",
    "print('df1             {: <8.4f} {: <8.3f} {: 15.2f} '.format(r2_1, rmse_1, predicted_mean_1))\n",
    "print('df2             {: <8.4f} {: <8.3f} {: 15.2f}'.format(r2_2, rmse_2, predicted_mean_2))\n",
    "print('df3             {: <8.4f} {: <8.3f} {: 15.2f}'.format(r2_3, rmse_3, predicted_mean_3))"
   ]
  },
  {
   "cell_type": "markdown",
   "metadata": {},
   "source": [
    "Мы видим что лучше всего модель обучилась по 2-му датасету и там самое низкое отклонение, но там меньше всего средняя по предсказанному запасу сырья и распределение не нормальное."
   ]
  },
  {
   "cell_type": "markdown",
   "metadata": {},
   "source": [
    "# 3. Подготовка к расчёту прибыли\n",
    "<a class=\"anchor\" id=\"chapter3\"></a>"
   ]
  },
  {
   "cell_type": "code",
   "execution_count": 37,
   "metadata": {},
   "outputs": [],
   "source": [
    "n = 500 # выборка скважин\n",
    "m = 200 # количество скважин для разработки\n",
    "barrel_price = 450000 # стоимость 1 барреля\n",
    "budget = 10000000000 # наш бюджет"
   ]
  },
  {
   "cell_type": "code",
   "execution_count": 38,
   "metadata": {},
   "outputs": [
    {
     "data": {
      "text/plain": [
       "111.11111111111111"
      ]
     },
     "execution_count": 38,
     "metadata": {},
     "output_type": "execute_result"
    }
   ],
   "source": [
    "min_barrels = budget/(barrel_price*m)\n",
    "min_barrels"
   ]
  },
  {
   "cell_type": "markdown",
   "metadata": {},
   "source": [
    "Мы видим, что минимальное количество 111,1 барелей в каждой скважине нужно для безубыточной добычи, а у нас средние по скважинам 68,92,95 , что говорит о возможности прибыльной разработки любых месторождений."
   ]
  },
  {
   "cell_type": "code",
   "execution_count": 39,
   "metadata": {},
   "outputs": [],
   "source": [
    "def revenue(target, predicted, count):\n",
    "    probs_best = pd.Series(predicted).sort_values(ascending=False) # сортируем предикты\n",
    "    income = (target[probs_best.index][:count].sum() * barrel_price).round(0) # находим доход = сумма топовых * прайс\n",
    "    margine = income - budget # находим прибыль\n",
    "    return margine"
   ]
  },
  {
   "cell_type": "markdown",
   "metadata": {},
   "source": [
    "Мы задали переменные и прописали функцию для расчета прибыли"
   ]
  },
  {
   "cell_type": "markdown",
   "metadata": {},
   "source": [
    "# 4. Расчёт прибыли и рисков \n",
    "<a class=\"anchor\" id=\"chapter4\"></a>"
   ]
  },
  {
   "cell_type": "markdown",
   "metadata": {},
   "source": [
    "Посчитаем для 1 региона"
   ]
  },
  {
   "cell_type": "code",
   "execution_count": 40,
   "metadata": {},
   "outputs": [
    {
     "name": "stdout",
     "output_type": "stream",
     "text": [
      "Средняя выручка: 425938526.927\n",
      "97,5%-квантиль по выручке: 947976353.5749999\n",
      "2,5%-квантиль по выручке: -102090094.925\n",
      "Вероятность убытков: 6.0 %\n",
      "CPU times: user 5.59 s, sys: 74 ms, total: 5.66 s\n",
      "Wall time: 5.83 s\n"
     ]
    },
    {
     "data": {
      "text/plain": [
       "<matplotlib.axes._subplots.AxesSubplot at 0x1a1e010390>"
      ]
     },
     "execution_count": 40,
     "metadata": {},
     "output_type": "execute_result"
    },
    {
     "data": {
      "image/png": "[encoded data removed]",
      "text/plain": [
       "<Figure size 432x288 with 1 Axes>"
      ]
     },
     "metadata": {
      "needs_background": "light"
     },
     "output_type": "display_data"
    }
   ],
   "source": [
    "%%time\n",
    "state = np.random.RandomState(12345)\n",
    "values = []\n",
    "\n",
    "# Bootstrap с тысячей самплов\n",
    "for i in range(1000):\n",
    "    target_subsample = target_valid_1.reset_index(drop=True).sample(n=n, replace=True, random_state=state) # создаем 1 рандомный сампл с n значений\n",
    "    probs_subsample = pd.Series(predicted_valid_1)[target_subsample.index] # собираем цели которые предсказала модель для сампла\n",
    "    values.append(revenue(target_subsample, probs_subsample, m)) # применяем функциюподсчета прибыли для сампла\n",
    "\n",
    "values_1 = pd.Series(values)\n",
    "\n",
    "# находим 95% доверительный интервал и среднюю\n",
    "lower_1 = values_1.quantile(0.025) \n",
    "upper_1 = values_1.quantile(0.975) \n",
    "mean_1 = values_1.mean() \n",
    "\n",
    "# Найдем процент убытков в нашей выручке\n",
    "outcome_risk_1 = len(values_1[values_1 < 0])/len(values_1)*100\n",
    "\n",
    "print(\"Средняя выручка:\", mean_1)\n",
    "print(\"97,5%-квантиль по выручке:\", upper_1)\n",
    "print(\"2,5%-квантиль по выручке:\", lower_1)\n",
    "print(\"Вероятность убытков:\",outcome_risk_1,\"%\")\n",
    "values_1.hist()"
   ]
  },
  {
   "cell_type": "markdown",
   "metadata": {},
   "source": [
    " Мы видим что вся прибыль колеблеться с 6,25 млрд до 8,25 млр руб, убыточных мест нету, соответственно вероятность убытка 0%. средняя выручка 7,27 млрд руб."
   ]
  },
  {
   "cell_type": "markdown",
   "metadata": {},
   "source": [
    "Проверим для 2 региона"
   ]
  },
  {
   "cell_type": "code",
   "execution_count": 41,
   "metadata": {},
   "outputs": [
    {
     "name": "stdout",
     "output_type": "stream",
     "text": [
      "Средняя выручка: 515222773.437\n",
      "97,5%-квантиль по выручке: 931547590.8749999\n",
      "2,5%-квантиль по выручке: 68873225.10000001\n",
      "Вероятность убытков: 1.0 %\n",
      "CPU times: user 5.27 s, sys: 49.5 ms, total: 5.32 s\n",
      "Wall time: 5.38 s\n"
     ]
    },
    {
     "data": {
      "text/plain": [
       "<matplotlib.axes._subplots.AxesSubplot at 0x1a20f25fd0>"
      ]
     },
     "execution_count": 41,
     "metadata": {},
     "output_type": "execute_result"
    },
    {
     "data": {
      "image/png": "[encoded data removed]",
      "text/plain": [
       "<Figure size 432x288 with 1 Axes>"
      ]
     },
     "metadata": {
      "needs_background": "light"
     },
     "output_type": "display_data"
    }
   ],
   "source": [
    "%%time\n",
    "state = np.random.RandomState(12345)\n",
    "values = []\n",
    "\n",
    "# Bootstrap с тысячей самплов\n",
    "for i in range(1000):\n",
    "    target_subsample = target_valid_2.reset_index(drop=True).sample(n=n, replace=True, random_state=state) # создаем 1 рандомный сампл с n значений\n",
    "    probs_subsample = pd.Series(predicted_valid_2)[target_subsample.index] # собираем цели которые предсказала модель для сампла\n",
    "    values.append(revenue(target_subsample, probs_subsample, m)) # применяем функциюподсчета прибыли для сампла\n",
    "\n",
    "values_2 = pd.Series(values)\n",
    "\n",
    "# находим 95% доверительный интервал и среднюю\n",
    "lower_2 = values_2.quantile(0.025) \n",
    "upper_2 = values_2.quantile(0.975) \n",
    "mean_2 = values_2.mean() \n",
    "\n",
    "# Найдем процент убытков в нашей выручке\n",
    "outcome_risk_2 = len(values_2[values_2 < 0])/len(values_2)*100\n",
    "\n",
    "print(\"Средняя выручка:\", mean_2)\n",
    "print(\"97,5%-квантиль по выручке:\", upper_2)\n",
    "print(\"2,5%-квантиль по выручке:\", lower_2)\n",
    "print(\"Вероятность убытков:\",outcome_risk_2,\"%\")\n",
    "values_2.hist()"
   ]
  },
  {
   "cell_type": "markdown",
   "metadata": {},
   "source": [
    "Проверим для 3 региона"
   ]
  },
  {
   "cell_type": "code",
   "execution_count": 42,
   "metadata": {},
   "outputs": [
    {
     "name": "stdout",
     "output_type": "stream",
     "text": [
      "Средняя выручка: 435008362.791\n",
      "97,5% квантиль по выручке: 969706953.725\n",
      "2,5% квантиль по выручке: -128880547.35\n",
      "Вероятность убытков: 6.4 %\n",
      "CPU times: user 5.17 s, sys: 40 ms, total: 5.21 s\n",
      "Wall time: 5.24 s\n"
     ]
    },
    {
     "data": {
      "text/plain": [
       "<matplotlib.axes._subplots.AxesSubplot at 0x1a20f351d0>"
      ]
     },
     "execution_count": 42,
     "metadata": {},
     "output_type": "execute_result"
    },
    {
     "data": {
      "image/png": "[encoded data removed]",
      "text/plain": [
       "<Figure size 432x288 with 1 Axes>"
      ]
     },
     "metadata": {
      "needs_background": "light"
     },
     "output_type": "display_data"
    }
   ],
   "source": [
    "%%time\n",
    "state = np.random.RandomState(12345)\n",
    "values = []\n",
    "\n",
    "# Bootstrap с тысячей самплов\n",
    "for i in range(1000):\n",
    "    target_subsample = target_valid_3.reset_index(drop=True).sample(n=n, replace=True, random_state=state) # создаем 1 рандомный сампл с n значений\n",
    "    probs_subsample = pd.Series(predicted_valid_3)[target_subsample.index] # собираем цели которые предсказала модель для сампла\n",
    "    values.append(revenue(target_subsample, probs_subsample, m)) # применяем функциюподсчета прибыли для сампла\n",
    "\n",
    "values_3 = pd.Series(values) \n",
    "\n",
    "# находим 95% доверительный интервал и среднюю\n",
    "lower_3 = values_3.quantile(0.025) \n",
    "upper_3 = values_3.quantile(0.975) \n",
    "mean_3 = values_3.mean() \n",
    "\n",
    "# Найдем процент убытков в нашей выручке\n",
    "outcome_risk_3 = len(values_3[values_3 < 0])/len(values_3)*100\n",
    "\n",
    "print(\"Средняя выручка:\", mean_3)\n",
    "print(\"97,5% квантиль по выручке:\", upper_3)\n",
    "print(\"2,5% квантиль по выручке:\", lower_3)\n",
    "print(\"Вероятность убытков:\",outcome_risk_3,\"%\")\n",
    "values_3.hist()"
   ]
  },
  {
   "cell_type": "markdown",
   "metadata": {},
   "source": [
    "## Вывод по моделям и регионам"
   ]
  },
  {
   "cell_type": "markdown",
   "metadata": {},
   "source": [
    "Соберем итоговую таблицу по данным и примем решение"
   ]
  },
  {
   "cell_type": "code",
   "execution_count": 48,
   "metadata": {},
   "outputs": [
    {
     "name": "stdout",
     "output_type": "stream",
     "text": [
      "Название датасета |  rmse  |   r2   | Ср. запас сырья |  Средняя выручка |  2,5% квантиль | 97,5% квантиль | Вероятность убытков %\n",
      "--------------------------------------------------------------------------------------------------------------------\n",
      "df1                0.2799   37.579       92.59         425938527        -102090095          947976354            6.00\n",
      "df2                0.9996   0.893        68.73         515222773         68873225          931547591            1.00\n",
      "df3                0.2052   40.030       94.97         435008363        -128880547          969706954            6.40\n"
     ]
    }
   ],
   "source": [
    "print('Название датасета |  rmse  |   r2   | Ср. запас сырья |  Средняя выручка |  2,5% квантиль | 97,5% квантиль | Вероятность убытков %')\n",
    "print('--------------------------------------------------------------------------------------------------------------------')\n",
    "print('df1                {: <8.4f} {: <8.3f}  {: 8.2f}         {: <8.0f}        {: 8.0f}         {: 8.0f}        {: 8.2f}'.format(r2_1, rmse_1, predicted_mean_1, mean_1, lower_1, upper_1, outcome_risk_1))\n",
    "print('df2                {: <8.4f} {: <8.3f}  {: 8.2f}         {: <8.0f}        {: 8.0f}         {: 8.0f}        {: 8.2f}'.format(r2_2, rmse_2, predicted_mean_2, mean_2, lower_2, upper_2, outcome_risk_2))\n",
    "print('df3                {: <8.4f} {: <8.3f}  {: 8.2f}         {: <8.0f}        {: 8.0f}         {: 8.0f}        {: 8.2f}'.format(r2_3, rmse_3, predicted_mean_3, mean_3, lower_3, upper_3, outcome_risk_3))"
   ]
  },
  {
   "cell_type": "markdown",
   "metadata": {},
   "source": [
    " Исходя из результатов мы видим:\n",
    "- Самая хорошая модель получилась по датасету 2-го региона, r2=0.89 и rmse = 0.99.\n",
    "- У 2-го региона целевая переменная имеет не нормальное распределение, что выделяется среди остальных регионов. \n",
    "- Средняя вырочка самая высокая во 2-м регионе.\n",
    "- Вероятность убытков самая низкая во 2-м регионе, он единственный имеет 2,5% квартиль плюсовую, что соответствуею условиям задачи.\n",
    "<br>\n",
    "\n",
    "Исходя из наших выводов очевидно - самый выгодный 2 регион, рекомендуем его к разработке."
   ]
  },
  {
   "cell_type": "code",
   "execution_count": null,
   "metadata": {},
   "outputs": [],
   "source": []
  }
 ],
 "metadata": {
  "kernelspec": {
   "display_name": "Python 3",
   "language": "python",
   "name": "python3"
  },
  "language_info": {
   "codemirror_mode": {
    "name": "ipython",
    "version": 3
   },
   "file_extension": ".py",
   "mimetype": "text/x-python",
   "name": "python",
   "nbconvert_exporter": "python",
   "pygments_lexer": "ipython3",
   "version": "3.7.4"
  }
 },
 "nbformat": 4,
 "nbformat_minor": 2
}
